{
 "cells": [
  {
   "cell_type": "code",
   "execution_count": null,
   "metadata": {},
   "outputs": [],
   "source": [
    "import pandas as pd\n",
    "import numpy as np\n",
    "import os\n",
    "import random\n",
    "from random import sample\n",
    "from langdetect import detect\n",
    "from collections import Counter\n",
    "random.seed(2022)\n",
    "np.random.seed(2022)"
   ]
  },
  {
   "cell_type": "markdown",
   "metadata": {},
   "source": [
    "python langdetect package: https://pypi.org/project/langdetect/\n",
    "- 이 패키지의 input 문장 영어 여부 분류 결과가 100% 정확하진 않지만, 이 패키지가 영어가 아니라고 판별한 문장들을 다 뺐을 때도 데이터 크기가 충분히 커서 전처리 과정에 포함시킴"
   ]
  },
  {
   "cell_type": "markdown",
   "metadata": {},
   "source": [
    "For sampling small trainset, use random.sample()\n",
    "- Python’s random module provides a sample() function for random sampling, randomly picking more than one element from the list without repeating elements.            \n",
    "- referred to https://pynative.com/python-random-sample/"
   ]
  },
  {
   "cell_type": "code",
   "execution_count": null,
   "metadata": {},
   "outputs": [],
   "source": [
    "#savedir = '/data/project/jeewon/coursework/2022-2/nlp/data/processed'\n",
    "#datadir = '/data/project/jeewon/coursework/2022-2/nlp/data/'\n",
    "datadir = './data/raw'\n",
    "savedir = './data/processed'\n",
    "if not os.path.exists(savedir):\n",
    "    os.makedirs(savedir)"
   ]
  },
  {
   "cell_type": "code",
   "execution_count": null,
   "metadata": {},
   "outputs": [],
   "source": [
    "numbers = ['0','1','2','3','4','5','6','7','8','9']\n",
    "marks= ['©','*', '..................','- - - - - - - - - - - - - -', 'C̨̼̱è̵͚̬͖̠̜͡r̨͚̜̖̥̗̥͟͡ͅv̩̼e͉̖̭̙̳̗̱͖ͅl͘҉̗̤̠͖ͅo̥̖͍͍̟', '😂', '🔥','👉', 'v̩̼e͉̖̭̙̳̗̱͖ͅl͘҉̗̤̠͖ͅo̥̖͍͍̟', '🐶','🐕','🐩','🐅','🐆','🐾','🌷','❤','💙','💚','💛','❤']\n",
    "unavailable_strings = ['copyright',  'published by']  \n",
    "en_strings = 'a b c d e f g h i j k l m n o p q r s t u v w x y z'.split(' ')\n",
    "small_trainset_size = 221630\n",
    "test_size = 500"
   ]
  },
  {
   "cell_type": "code",
   "execution_count": null,
   "metadata": {},
   "outputs": [],
   "source": [
    "def exclude_unavailables(feature, poem_flag, df): \n",
    "    \n",
    "    print(\"input df shape: \", df.shape)\n",
    "    #feature: numbers, marks, unavailable_strings\n",
    "    \n",
    "    data_ = 'poem' if poem_flag==True else 'reddit'\n",
    "    \n",
    "    globals()[data_+'_'+feature+'_indices'] = []\n",
    "    \n",
    "    for i in range(df.shape[0]):\n",
    "        current_string = str(df.text.values[i]).lower()\n",
    "        #if detect(current_string) != 'en':\n",
    "        for k in globals()[feature]:\n",
    "            if k in current_string and i not in globals()[data_+'_'+feature+'_indices']:\n",
    "                globals()[data_+'_'+feature+'_indices'].append(i)\n",
    "\n",
    "    print(\"num_excluded: \", len(globals()[data_+'_'+feature+'_indices']))\n",
    "    \n",
    "    if df.iloc[globals()[data_+'_'+feature+'_indices'],:].shape[0] >= 10:\n",
    "        print(\"example sentences that are excluded: \")\n",
    "        print(df.iloc[globals()[data_+'_'+feature+'_indices'],:].sample(10).text.values)\n",
    "    else:\n",
    "        print(\"example sentences that are excluded: \")\n",
    "        print(df.iloc[globals()[data_+'_'+feature+'_indices'],:].text.values)\n",
    "\n",
    "    df.drop(globals()[data_+'_'+feature+'_indices'], axis = 0, inplace = True)\n",
    "    print(\"data shape after exclusion: \", df.shape)\n",
    "    df.index = np.arange(df.shape[0])\n",
    "    \n",
    "    return df"
   ]
  },
  {
   "cell_type": "code",
   "execution_count": null,
   "metadata": {},
   "outputs": [],
   "source": [
    "def train_test_split(df, s_flag, savedir, train_fname, test_fname, small_train_fname=''):\n",
    "    #print(df.shape)\n",
    "    test_ind = np.random.randint(low=0, high=df.shape[0], size=test_size)\n",
    "    train_ind = np.delete(np.arange(df.shape[0]), test_ind)\n",
    "    #print(len(test_ind))\n",
    "    #print(len(train_ind))\n",
    "    if len(test_ind)+len(train_ind) - df.shape[0]!= 0:\n",
    "        raise ValueError\n",
    "    #print(\"train: {}, test: {}\".format(len(train_ind), len(test_ind)))\n",
    "    \n",
    "    train = df.loc[train_ind].copy()\n",
    "    test = df.loc[test_ind].copy()\n",
    "    #train.index = np.arange(train.shape[0])\n",
    "    #test.index = np.arange(test.shape[0])\n",
    "    \n",
    "    print(\"train set size: \", train.shape)\n",
    "    print(\"test set size: \", test.shape)\n",
    "        \n",
    "    # save train/test sets\n",
    "    train.to_csv(os.path.join(savedir, train_fname), index = False)\n",
    "    test.to_csv(os.path.join(savedir, test_fname), index = False)\n",
    "    \n",
    "    # (optional) make small trainset\n",
    "    if s_flag==True:\n",
    "        train.index = np.arange(train.shape[0])\n",
    "        small_train_ind = sample(np.arange(train.shape[0]).tolist(), small_trainset_size)\n",
    "        small_trainset = train.iloc[small_train_ind,:].copy()\n",
    "        small_trainset.to_csv(os.path.join(savedir, small_train_fname), index = False)\n",
    "        \n",
    "    return train, test, small_trainset"
   ]
  },
  {
   "cell_type": "code",
   "execution_count": null,
   "metadata": {},
   "outputs": [],
   "source": [
    "# import data"
   ]
  },
  {
   "cell_type": "code",
   "execution_count": null,
   "metadata": {},
   "outputs": [],
   "source": [
    "poem = pd.read_csv(os.path.join(datadir, 'poem1_15.csv'))"
   ]
  },
  {
   "cell_type": "code",
   "execution_count": null,
   "metadata": {},
   "outputs": [],
   "source": [
    "reddit = pd.read_csv(os.path.join(datadir, 'reddit_15.csv'))"
   ]
  },
  {
   "cell_type": "code",
   "execution_count": null,
   "metadata": {},
   "outputs": [],
   "source": [
    "print(poem.shape)\n",
    "print(reddit.shape)"
   ]
  },
  {
   "cell_type": "markdown",
   "metadata": {},
   "source": [
    "---"
   ]
  },
  {
   "cell_type": "markdown",
   "metadata": {},
   "source": [
    "## Poem"
   ]
  },
  {
   "cell_type": "markdown",
   "metadata": {},
   "source": [
    "### Inspect unavailables in poem and reddit data"
   ]
  },
  {
   "cell_type": "markdown",
   "metadata": {},
   "source": [
    "### 1. exclude not-containing-language sentences"
   ]
  },
  {
   "cell_type": "code",
   "execution_count": null,
   "metadata": {},
   "outputs": [],
   "source": [
    "no_words_sentence_indices = []\n",
    "for i in range(poem.shape[0]):\n",
    "    current_string = str(poem.text.values[i]).lower()\n",
    "    counter_dictionary = Counter(current_string)\n",
    "    num_en_str = 0\n",
    "    for en_str in en_strings:\n",
    "        if en_str in list(counter_dictionary.keys()):\n",
    "            num_en_str += counter_dictionary[en_str]\n",
    "    if num_en_str == 0 and i not in no_words_sentence_indices:\n",
    "        no_words_sentence_indices.append(i)\n",
    "print(len(no_words_sentence_indices))\n",
    "print(poem.iloc[no_words_sentence_indices,:].sample(10).text.values)\n",
    "poem_exclude_no_words = poem.drop(no_words_sentence_indices, axis=0).copy()\n",
    "poem_exclude_no_words.index = np.arange(poem_exclude_no_words.shape[0])\n",
    "print(poem_exclude_no_words.shape)"
   ]
  },
  {
   "cell_type": "markdown",
   "metadata": {},
   "source": [
    "### 2. exclude sentences with num_words <= 3"
   ]
  },
  {
   "cell_type": "code",
   "execution_count": null,
   "metadata": {},
   "outputs": [],
   "source": [
    "few_words_sentence_indices = []\n",
    "for i in range(poem_exclude_no_words.shape[0]):\n",
    "    current_string = str(poem_exclude_no_words.text.values[i]).lower()\n",
    "    if len(current_string.split(' ')) <= 3 and i not in few_words_sentence_indices:\n",
    "        few_words_sentence_indices.append(i)\n",
    "print(len(few_words_sentence_indices))\n",
    "print(poem_exclude_no_words.iloc[few_words_sentence_indices,:].sample(10).text.values)\n",
    "poem_exclude_few_words = poem_exclude_no_words.drop(few_words_sentence_indices, axis=0).copy()\n",
    "poem_exclude_few_words.index = np.arange(poem_exclude_few_words.shape[0])\n",
    "print(poem_exclude_few_words.shape)"
   ]
  },
  {
   "cell_type": "markdown",
   "metadata": {},
   "source": [
    "### 3. exclude numbers"
   ]
  },
  {
   "cell_type": "code",
   "execution_count": null,
   "metadata": {},
   "outputs": [],
   "source": [
    "poem_exclude_number = exclude_unavailables(feature='numbers', poem_flag=True, df=poem_exclude_few_words.copy())"
   ]
  },
  {
   "cell_type": "markdown",
   "metadata": {},
   "source": [
    "### 4. exclude marks"
   ]
  },
  {
   "cell_type": "code",
   "execution_count": null,
   "metadata": {},
   "outputs": [],
   "source": [
    "poem_exclude_mark = exclude_unavailables(feature='marks', poem_flag=True, df=poem_exclude_number.copy())"
   ]
  },
  {
   "cell_type": "markdown",
   "metadata": {},
   "source": [
    "### 5. exclude not-english-sentences"
   ]
  },
  {
   "cell_type": "code",
   "execution_count": null,
   "metadata": {},
   "outputs": [],
   "source": [
    "not_en_indices = []\n",
    "for i in range(poem_exclude_mark.shape[0]):\n",
    "    current_string = str(poem_exclude_mark.text.values[i]).lower()\n",
    "    if detect(current_string) != 'en' and i not in not_en_indices:\n",
    "        not_en_indices.append(i)\n",
    "print(len(not_en_indices))\n",
    "print(poem_exclude_mark.iloc[not_en_indices,:].sample(10).text.values)\n",
    "poem_exclude_not_en = poem_exclude_mark.drop(not_en_indices, axis=0).copy()\n",
    "poem_exclude_not_en.index = np.arange(poem_exclude_not_en.shape[0])\n",
    "print(poem_exclude_not_en.shape)"
   ]
  },
  {
   "cell_type": "markdown",
   "metadata": {},
   "source": [
    "### 6. exclude 'copyright' and 'published by'"
   ]
  },
  {
   "cell_type": "code",
   "execution_count": null,
   "metadata": {},
   "outputs": [],
   "source": [
    "poem_exclude_unavailables = exclude_unavailables(feature='unavailable_strings', poem_flag=True, df=poem_exclude_not_en.copy())\n",
    "# 'copyright'이라는 단어가 실제 시의 문장에 쓰인 단어인 경우도 일부 있지만, copyright이 시에 쓰인 경우와 아닌 경우를 하나하나 inpsect하기 힘들어서 일괄적으로 뺌."
   ]
  },
  {
   "cell_type": "markdown",
   "metadata": {},
   "source": [
    "## train/test split (poem)"
   ]
  },
  {
   "cell_type": "markdown",
   "metadata": {},
   "source": [
    "#### (optional) make small corpus for faster training    "
   ]
  },
  {
   "cell_type": "code",
   "execution_count": null,
   "metadata": {},
   "outputs": [],
   "source": [
    "poem_final = poem_exclude_unavailables.copy()\n",
    "poem_train, poem_test, small_poem_trainset = train_test_split(poem_final.copy(), True, savedir, 'poem_train.csv', 'poem_test.csv', 'small_poem_train.csv')"
   ]
  },
  {
   "cell_type": "markdown",
   "metadata": {},
   "source": [
    "## make corpus (text only)\n",
    "- Use lower case when saving text into corpus"
   ]
  },
  {
   "cell_type": "code",
   "execution_count": null,
   "metadata": {},
   "outputs": [],
   "source": [
    "#when re-loading data\n",
    "#poem_train = pd.read_csv(os.path.join(savedir, 'poem_train.csv')) "
   ]
  },
  {
   "cell_type": "code",
   "execution_count": null,
   "metadata": {},
   "outputs": [],
   "source": [
    "f = open(os.path.join(savedir, 'poem_train_corpus.txt'), 'w')#entire trainset\n",
    "for i in range(poem_train.shape[0]):\n",
    "    f.write(str(poem_train.text.values[i]).lower())\n",
    "    if i != poem_train.shape[0]-1:\n",
    "        f.write(\"\\n\")\n",
    "f.close()"
   ]
  },
  {
   "cell_type": "code",
   "execution_count": null,
   "metadata": {},
   "outputs": [],
   "source": [
    "f = open(os.path.join(savedir, 'poem_test_corpus.txt'), 'w')\n",
    "for i in range(poem_test.shape[0]):\n",
    "    f.write(str(poem_test.text.values[i]).lower())\n",
    "    if i != poem_test.shape[0]-1:\n",
    "        f.write(\"\\n\")\n",
    "f.close()"
   ]
  },
  {
   "cell_type": "code",
   "execution_count": null,
   "metadata": {},
   "outputs": [],
   "source": [
    "f = open(os.path.join(savedir, 'small_poem_train_corpus.txt'), 'w')#small trainset <- used this in implementation\n",
    "for i in range(small_poem_trainset.shape[0]):\n",
    "    f.write(str(small_poem_trainset.text.values[i]).lower())\n",
    "    if i != small_poem_trainset.shape[0]-1:\n",
    "        f.write(\"\\n\")\n",
    "f.close()"
   ]
  },
  {
   "cell_type": "markdown",
   "metadata": {},
   "source": [
    "---"
   ]
  },
  {
   "cell_type": "markdown",
   "metadata": {},
   "source": [
    "# Reddit"
   ]
  },
  {
   "cell_type": "markdown",
   "metadata": {},
   "source": [
    "## 1. exclude not-containing-language sentences"
   ]
  },
  {
   "cell_type": "code",
   "execution_count": null,
   "metadata": {},
   "outputs": [],
   "source": [
    "no_words_sentence_indices = []\n",
    "for i in range(reddit.shape[0]):\n",
    "    current_string = str(reddit.text.values[i]).lower()\n",
    "    counter_dictionary = Counter(current_string)\n",
    "    num_en_str = 0\n",
    "    for en_str in en_strings:\n",
    "        if en_str in list(counter_dictionary.keys()):\n",
    "            num_en_str += counter_dictionary[en_str]\n",
    "    if num_en_str == 0 and i not in no_words_sentence_indices:\n",
    "        no_words_sentence_indices.append(i)\n",
    "print(len(no_words_sentence_indices))\n",
    "print(reddit.iloc[no_words_sentence_indices,:].sample(10).text.values)\n",
    "reddit_exclude_no_words = reddit.drop(no_words_sentence_indices, axis=0).copy()\n",
    "reddit_exclude_no_words.index = np.arange(reddit_exclude_no_words.shape[0])\n",
    "print(reddit_exclude_no_words.shape)"
   ]
  },
  {
   "cell_type": "markdown",
   "metadata": {},
   "source": [
    "## 2. exclude sentences with num_words <= 3"
   ]
  },
  {
   "cell_type": "code",
   "execution_count": null,
   "metadata": {},
   "outputs": [],
   "source": [
    "few_words_sentence_indices = []\n",
    "for i in range(reddit_exclude_no_words.shape[0]):\n",
    "    current_string = str(reddit_exclude_no_words.text.values[i]).lower()\n",
    "    if len(current_string.split(' ')) <= 3 and i not in few_words_sentence_indices:\n",
    "        few_words_sentence_indices.append(i)\n",
    "print(len(few_words_sentence_indices))\n",
    "print(reddit_exclude_no_words.iloc[few_words_sentence_indices,:].sample(10).text.values)\n",
    "reddit_exclude_few_words = reddit_exclude_no_words.drop(few_words_sentence_indices, axis=0).copy()\n",
    "reddit_exclude_few_words.index = np.arange(reddit_exclude_few_words.shape[0])\n",
    "print(reddit_exclude_few_words.shape)"
   ]
  },
  {
   "cell_type": "markdown",
   "metadata": {},
   "source": [
    "## 3. exclude numbers"
   ]
  },
  {
   "cell_type": "code",
   "execution_count": null,
   "metadata": {},
   "outputs": [],
   "source": [
    "reddit_exclude_number = exclude_unavailables(feature='numbers', poem_flag=False, df=reddit_exclude_few_words.copy())"
   ]
  },
  {
   "cell_type": "markdown",
   "metadata": {},
   "source": [
    "## 4. exclude marks"
   ]
  },
  {
   "cell_type": "code",
   "execution_count": null,
   "metadata": {},
   "outputs": [],
   "source": [
    "reddit_exclude_mark = exclude_unavailables(feature='marks', poem_flag=False, df=reddit_exclude_number.copy())"
   ]
  },
  {
   "cell_type": "markdown",
   "metadata": {},
   "source": [
    "## 5. exclude not-english-sentences"
   ]
  },
  {
   "cell_type": "code",
   "execution_count": null,
   "metadata": {},
   "outputs": [],
   "source": [
    "not_en_indices = []\n",
    "for i in range(reddit_exclude_mark.shape[0]):\n",
    "#for i in np.arange(259680-1, reddit_exclude_mark.shape[0]):#debug\n",
    "    current_string = str(reddit_exclude_mark.text.values[i]).lower()\n",
    "    if detect(current_string) != 'en' and i not in not_en_indices:\n",
    "        not_en_indices.append(i)\n",
    "print(len(not_en_indices))\n",
    "print(reddit_exclude_mark.iloc[not_en_indices,:].sample(10).text.values)\n",
    "reddit_exclude_not_en = reddit_exclude_mark.drop(not_en_indices, axis=0).copy()\n",
    "reddit_exclude_not_en.index = np.arange(reddit_exclude_not_en.shape[0])\n",
    "print(reddit_exclude_not_en.shape)"
   ]
  },
  {
   "cell_type": "markdown",
   "metadata": {},
   "source": [
    "## 6. exclude 'copyright' and 'published by'"
   ]
  },
  {
   "cell_type": "code",
   "execution_count": null,
   "metadata": {},
   "outputs": [],
   "source": [
    "reddit_exclude_unavailables = exclude_unavailables(feature='unavailable_strings', poem_flag=False, df=reddit_exclude_not_en.copy())"
   ]
  },
  {
   "cell_type": "markdown",
   "metadata": {},
   "source": [
    "## train/test split (reddit)"
   ]
  },
  {
   "cell_type": "code",
   "execution_count": null,
   "metadata": {},
   "outputs": [],
   "source": [
    "reddit_final = reddit_exclude_unavailables.copy()\n",
    "reddit_train, reddit_test, small_reddit_trainset = train_test_split(reddit_final.copy(), True, savedir, 'reddit_train.csv', 'reddit_test.csv', 'small_reddit_train.csv')"
   ]
  },
  {
   "cell_type": "markdown",
   "metadata": {},
   "source": [
    "## make corpus (text only)\n",
    "- Use lower case when saving text into corpus"
   ]
  },
  {
   "cell_type": "code",
   "execution_count": null,
   "metadata": {},
   "outputs": [],
   "source": [
    "#when re-loading data\n",
    "#reddit_train = pd.read_csv(os.path.join(savedir, 'reddit_train.csv'))"
   ]
  },
  {
   "cell_type": "code",
   "execution_count": null,
   "metadata": {},
   "outputs": [],
   "source": [
    "f = open(os.path.join(savedir, 'reddit_train_corpus.txt'), 'w')#entire trainset\n",
    "for i in range(reddit_train.shape[0]):\n",
    "    f.write(str(reddit_train.text.values[i]).lower())\n",
    "    if i != reddit_train.shape[0]-1:\n",
    "        f.write(\"\\n\")\n",
    "f.close()"
   ]
  },
  {
   "cell_type": "code",
   "execution_count": null,
   "metadata": {},
   "outputs": [],
   "source": [
    "f = open(os.path.join(savedir, 'reddit_test_corpus.txt'), 'w')\n",
    "for i in range(reddit_test.shape[0]):\n",
    "    f.write(str(reddit_test.text.values[i]).lower())\n",
    "    if i != reddit_test.shape[0]-1:\n",
    "        f.write(\"\\n\")\n",
    "f.close()"
   ]
  },
  {
   "cell_type": "code",
   "execution_count": null,
   "metadata": {},
   "outputs": [],
   "source": [
    "f = open(os.path.join(savedir, 'small_reddit_train_corpus.txt'), 'w')#small trainset <- used this in implementation\n",
    "for i in range(small_reddit_trainset.shape[0]):\n",
    "    f.write(str(small_reddit_trainset.text.values[i]).lower())\n",
    "    if i != small_reddit_trainset.shape[0]-1:\n",
    "        f.write(\"\\n\")\n",
    "f.close()"
   ]
  },
  {
   "cell_type": "markdown",
   "metadata": {},
   "source": [
    "## save entire corpus"
   ]
  },
  {
   "cell_type": "code",
   "execution_count": null,
   "metadata": {},
   "outputs": [],
   "source": [
    "f = open(os.path.join(savedir, 'entire_train_corpus.txt'), 'w')\n",
    "for i in range(poem_train.shape[0]):\n",
    "    f.write(str(poem_train.text.values[i]).lower())\n",
    "    f.write(\"\\n\")\n",
    "for k in range(reddit_train.shape[0]):\n",
    "    f.write(str(reddit_train.text.values[k]).lower())\n",
    "    if k != reddit_train.shape[0] -1:\n",
    "        f.write(\"\\n\")\n",
    "f.close()"
   ]
  },
  {
   "cell_type": "code",
   "execution_count": null,
   "metadata": {},
   "outputs": [],
   "source": [
    "f = open(os.path.join(savedir, 'entire_small_train_corpus.txt'), 'w')\n",
    "for i in range(small_poem_trainset.shape[0]):\n",
    "    f.write(str(small_poem_trainset.text.values[i]).lower())\n",
    "    f.write(\"\\n\")\n",
    "for k in range(small_reddit_trainset.shape[0]):\n",
    "    f.write(str(small_reddit_trainset.text.values[k]).lower())\n",
    "    if k != small_reddit_trainset.shape[0] -1:\n",
    "        f.write(\"\\n\")\n",
    "f.close()"
   ]
  },
  {
   "cell_type": "code",
   "execution_count": null,
   "metadata": {},
   "outputs": [],
   "source": []
  }
 ],
 "metadata": {
  "kernelspec": {
   "display_name": "Python 3.8.9 ('venv': venv)",
   "language": "python",
   "name": "python3"
  },
  "language_info": {
   "codemirror_mode": {
    "name": "ipython",
    "version": 3
   },
   "file_extension": ".py",
   "mimetype": "text/x-python",
   "name": "python",
   "nbconvert_exporter": "python",
   "pygments_lexer": "ipython3",
   "version": "3.8.9"
  },
  "vscode": {
   "interpreter": {
    "hash": "2ede16db51fa6506e1f99f98e3ee25d7f585636117a871ed413b1bffef784c6d"
   }
  }
 },
 "nbformat": 4,
 "nbformat_minor": 2
}
