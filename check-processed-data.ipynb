{
 "cells": [
  {
   "cell_type": "code",
   "execution_count": 1,
   "metadata": {},
   "outputs": [],
   "source": [
    "import pandas as pd\n",
    "import numpy as np\n",
    "import os"
   ]
  },
  {
   "cell_type": "code",
   "execution_count": 2,
   "metadata": {},
   "outputs": [],
   "source": [
    "processed_dir = '/data/project/jeewon/coursework/2022-2/nlp/scripts/data/processed'"
   ]
  },
  {
   "cell_type": "code",
   "execution_count": 8,
   "metadata": {},
   "outputs": [],
   "source": [
    "poem_train = pd.read_csv(os.path.join(processed_dir, 'poem_train.csv'))\n",
    "#poem_test = pd.read_csv(os.path.join(processed_dir, 'poem_test.csv'))\n",
    "reddit_train = pd.read_csv(os.path.join(processed_dir, 'reddit_train.csv'))\n",
    "#reddit_test = pd.read_csv(os.path.join(processed_dir, 'reddit_test.csv'))\n",
    "#entire_corpus = pd.read_csv(os.path.join(processed_dir, 'entire_train_corpus.csv'))"
   ]
  },
  {
   "cell_type": "code",
   "execution_count": 9,
   "metadata": {},
   "outputs": [
    {
     "name": "stdout",
     "output_type": "stream",
     "text": [
      "(452283, 2)\n",
      "(500, 2)\n",
      "(479070, 2)\n",
      "(500, 2)\n"
     ]
    }
   ],
   "source": [
    "print(poem_train.shape)\n",
    "#print(poem_test.shape)\n",
    "print(reddit_train.shape)\n",
    "#print(reddit_test.shape)"
   ]
  },
  {
   "cell_type": "code",
   "execution_count": 15,
   "metadata": {},
   "outputs": [],
   "source": [
    "poem_train_lowercase = [x.lower() for x in poem_train.text.values]\n",
    "reddit_train_lowercase = [x.lower() for x in reddit_train.text.values]"
   ]
  },
  {
   "cell_type": "code",
   "execution_count": 18,
   "metadata": {},
   "outputs": [],
   "source": [
    "with open(os.path.join(processed_dir, 'small_poem_train_corpus.txt'),'r') as f:\n",
    "    current_line = f.readline().strip()\n",
    "    if current_line not in poem_train_lowercase:\n",
    "        raise ValueError"
   ]
  },
  {
   "cell_type": "code",
   "execution_count": 19,
   "metadata": {},
   "outputs": [],
   "source": [
    "with open(os.path.join(processed_dir, 'small_reddit_train_corpus.txt'),'r') as f:\n",
    "    current_line = f.readline().strip()\n",
    "    if current_line not in reddit_train_lowercase:\n",
    "        raise ValueError"
   ]
  },
  {
   "cell_type": "code",
   "execution_count": null,
   "metadata": {},
   "outputs": [],
   "source": []
  }
 ],
 "metadata": {
  "kernelspec": {
   "display_name": "nlp",
   "language": "python",
   "name": "nlp"
  },
  "language_info": {
   "codemirror_mode": {
    "name": "ipython",
    "version": 3
   },
   "file_extension": ".py",
   "mimetype": "text/x-python",
   "name": "python",
   "nbconvert_exporter": "python",
   "pygments_lexer": "ipython3",
   "version": "3.10.8"
  }
 },
 "nbformat": 4,
 "nbformat_minor": 2
}
